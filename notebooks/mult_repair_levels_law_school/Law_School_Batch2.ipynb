{
 "cells": [
  {
   "cell_type": "code",
   "execution_count": 15,
   "id": "b2503a0d",
   "metadata": {},
   "outputs": [],
   "source": [
    "# !pip install -r ./requirements.txt"
   ]
  },
  {
   "cell_type": "code",
   "execution_count": 9,
   "id": "405783da",
   "metadata": {},
   "outputs": [],
   "source": [
    "# !pip install aif360"
   ]
  },
  {
   "cell_type": "code",
   "execution_count": 10,
   "id": "5ff22627",
   "metadata": {},
   "outputs": [],
   "source": [
    "# !pip install BlackBoxAuditing==0.1.54"
   ]
  },
  {
   "cell_type": "code",
   "execution_count": 1,
   "id": "7e836584",
   "metadata": {},
   "outputs": [],
   "source": [
    "%matplotlib inline\n",
    "%load_ext autoreload\n",
    "%autoreload 2"
   ]
  },
  {
   "cell_type": "code",
   "execution_count": 2,
   "id": "e6c0a7a7",
   "metadata": {},
   "outputs": [],
   "source": [
    "import os\n",
    "import warnings\n",
    "warnings.filterwarnings('ignore')\n",
    "os.environ[\"PYTHONWARNINGS\"] = \"ignore\""
   ]
  },
  {
   "cell_type": "code",
   "execution_count": 3,
   "id": "e73c2011",
   "metadata": {},
   "outputs": [
    {
     "name": "stdout",
     "output_type": "stream",
     "text": [
      "Current location:  /home/dh3553/projects/fairness-variance\n"
     ]
    }
   ],
   "source": [
    "cur_folder_name = os.getcwd().split('/')[-1]\n",
    "if cur_folder_name != \"fairness-variance\":\n",
    "    os.chdir(\"../..\")\n",
    "\n",
    "print('Current location: ', os.getcwd())"
   ]
  },
  {
   "cell_type": "markdown",
   "id": "b5cac123",
   "metadata": {},
   "source": [
    "## Import dependencies"
   ]
  },
  {
   "cell_type": "code",
   "execution_count": 4,
   "id": "7c8b1d80",
   "metadata": {},
   "outputs": [
    {
     "name": "stderr",
     "output_type": "stream",
     "text": [
      "WARNING:root:No module named 'tempeh': LawSchoolGPADataset will be unavailable. To install, run:\n",
      "pip install 'aif360[LawSchoolGPA]'\n",
      "WARNING:root:No module named 'tensorflow': AdversarialDebiasing will be unavailable. To install, run:\n",
      "pip install 'aif360[AdversarialDebiasing]'\n",
      "WARNING:root:No module named 'tensorflow': AdversarialDebiasing will be unavailable. To install, run:\n",
      "pip install 'aif360[AdversarialDebiasing]'\n"
     ]
    }
   ],
   "source": [
    "import os\n",
    "import copy\n",
    "\n",
    "from virny.utils.custom_initializers import create_config_obj\n",
    "from virny.datasets import LawSchoolDataset\n",
    "\n",
    "from configs.constants import TEST_SET_FRACTION, EXPERIMENT_SEEDS\n",
    "from configs.models_config_for_tuning import get_model_params_for_mult_repair_levels\n",
    "\n",
    "from source.preprocessing import get_simple_preprocessor\n",
    "from source.experiment_interface import run_exp_iter_with_disparate_impact"
   ]
  },
  {
   "cell_type": "markdown",
   "id": "bb554ef7",
   "metadata": {},
   "source": [
    "## Define Input Variables"
   ]
  },
  {
   "cell_type": "code",
   "execution_count": 5,
   "id": "8a80fee2",
   "metadata": {},
   "outputs": [],
   "source": [
    "# ROOT_DIR = os.path.join(os.getcwd(), \"..\", \"..\")\n",
    "ROOT_DIR = os.getcwd()\n",
    "EXPERIMENT_NAME = 'mult_repair_levels_law_school'\n",
    "DB_COLLECTION_NAME = 'exp_mult_repair_levels'\n",
    "DATASET_NAME = 'LawSchoolDataset'\n",
    "SAVE_RESULTS_DIR_PATH = os.path.join(ROOT_DIR, 'results', EXPERIMENT_NAME)\n",
    "# FAIR_INTERVENTION_PARAMS_LST = [0.0, 0.1, 0.2, 0.3, 0.4, 0.5, 0.6, 0.7, 0.8, 0.9, 1.0]\n",
    "FAIR_INTERVENTION_PARAMS_LST = [0.4, 0.6, 0.7, 0.8, 1.0]\n",
    "\n",
    "config_yaml_path = os.path.join(ROOT_DIR, 'notebooks', EXPERIMENT_NAME, 'law_school_2018_config.yaml')\n",
    "metrics_computation_config = create_config_obj(config_yaml_path=config_yaml_path)"
   ]
  },
  {
   "cell_type": "markdown",
   "id": "3bd67e3e",
   "metadata": {},
   "source": [
    "## Define a db writer and custom fields to insert into your database"
   ]
  },
  {
   "cell_type": "code",
   "execution_count": 6,
   "id": "c8c92603",
   "metadata": {},
   "outputs": [
    {
     "data": {
      "text/plain": [
       "'fairness_variance'"
      ]
     },
     "execution_count": 6,
     "metadata": {},
     "output_type": "execute_result"
    }
   ],
   "source": [
    "import os\n",
    "from dotenv import load_dotenv\n",
    "\n",
    "load_dotenv('./configs/secrets.env')\n",
    "os.getenv(\"DB_NAME\")"
   ]
  },
  {
   "cell_type": "code",
   "execution_count": 7,
   "id": "ccc08f5a",
   "metadata": {},
   "outputs": [],
   "source": [
    "from source.utils.db_functions import connect_to_mongodb\n",
    "\n",
    "client, collection_obj, db_writer_func = connect_to_mongodb(DB_COLLECTION_NAME)"
   ]
  },
  {
   "cell_type": "code",
   "execution_count": 8,
   "id": "574f63fe",
   "metadata": {},
   "outputs": [
    {
     "name": "stdout",
     "output_type": "stream",
     "text": [
      "Current session uuid:  9430484b-bec6-42a0-ac65-11c53446a61f\n"
     ]
    }
   ],
   "source": [
    "import uuid\n",
    "\n",
    "custom_table_fields_dct = {\n",
    "#     'session_uuid': str(uuid.uuid4()),\n",
    "    'session_uuid': '9430484b-bec6-42a0-ac65-11c53446a61f',\n",
    "}\n",
    "print('Current session uuid: ', custom_table_fields_dct['session_uuid'])"
   ]
  },
  {
   "cell_type": "markdown",
   "id": "ba18fb58",
   "metadata": {},
   "source": [
    "## Initialize custom objects"
   ]
  },
  {
   "cell_type": "code",
   "execution_count": 9,
   "id": "e79f1f21",
   "metadata": {},
   "outputs": [
    {
     "data": {
      "text/html": [
       "<div>\n",
       "<style scoped>\n",
       "    .dataframe tbody tr th:only-of-type {\n",
       "        vertical-align: middle;\n",
       "    }\n",
       "\n",
       "    .dataframe tbody tr th {\n",
       "        vertical-align: top;\n",
       "    }\n",
       "\n",
       "    .dataframe thead th {\n",
       "        text-align: right;\n",
       "    }\n",
       "</style>\n",
       "<table border=\"1\" class=\"dataframe\">\n",
       "  <thead>\n",
       "    <tr style=\"text-align: right;\">\n",
       "      <th></th>\n",
       "      <th>decile1b</th>\n",
       "      <th>decile3</th>\n",
       "      <th>lsat</th>\n",
       "      <th>ugpa</th>\n",
       "      <th>zfygpa</th>\n",
       "      <th>zgpa</th>\n",
       "      <th>fulltime</th>\n",
       "      <th>fam_inc</th>\n",
       "      <th>male</th>\n",
       "      <th>tier</th>\n",
       "      <th>race</th>\n",
       "    </tr>\n",
       "  </thead>\n",
       "  <tbody>\n",
       "    <tr>\n",
       "      <th>0</th>\n",
       "      <td>10.0</td>\n",
       "      <td>10.0</td>\n",
       "      <td>44.0</td>\n",
       "      <td>3.5</td>\n",
       "      <td>1.33</td>\n",
       "      <td>1.88</td>\n",
       "      <td>1.0</td>\n",
       "      <td>5.0</td>\n",
       "      <td>0.0</td>\n",
       "      <td>4.0</td>\n",
       "      <td>White</td>\n",
       "    </tr>\n",
       "    <tr>\n",
       "      <th>1</th>\n",
       "      <td>5.0</td>\n",
       "      <td>4.0</td>\n",
       "      <td>29.0</td>\n",
       "      <td>3.5</td>\n",
       "      <td>-0.11</td>\n",
       "      <td>-0.57</td>\n",
       "      <td>1.0</td>\n",
       "      <td>4.0</td>\n",
       "      <td>0.0</td>\n",
       "      <td>2.0</td>\n",
       "      <td>White</td>\n",
       "    </tr>\n",
       "    <tr>\n",
       "      <th>2</th>\n",
       "      <td>8.0</td>\n",
       "      <td>7.0</td>\n",
       "      <td>37.0</td>\n",
       "      <td>3.4</td>\n",
       "      <td>0.63</td>\n",
       "      <td>0.37</td>\n",
       "      <td>1.0</td>\n",
       "      <td>3.0</td>\n",
       "      <td>1.0</td>\n",
       "      <td>4.0</td>\n",
       "      <td>White</td>\n",
       "    </tr>\n",
       "    <tr>\n",
       "      <th>3</th>\n",
       "      <td>8.0</td>\n",
       "      <td>7.0</td>\n",
       "      <td>43.0</td>\n",
       "      <td>3.3</td>\n",
       "      <td>0.67</td>\n",
       "      <td>0.34</td>\n",
       "      <td>1.0</td>\n",
       "      <td>4.0</td>\n",
       "      <td>0.0</td>\n",
       "      <td>4.0</td>\n",
       "      <td>White</td>\n",
       "    </tr>\n",
       "    <tr>\n",
       "      <th>4</th>\n",
       "      <td>3.0</td>\n",
       "      <td>2.0</td>\n",
       "      <td>41.0</td>\n",
       "      <td>3.3</td>\n",
       "      <td>-0.67</td>\n",
       "      <td>-1.30</td>\n",
       "      <td>1.0</td>\n",
       "      <td>4.0</td>\n",
       "      <td>0.0</td>\n",
       "      <td>5.0</td>\n",
       "      <td>White</td>\n",
       "    </tr>\n",
       "  </tbody>\n",
       "</table>\n",
       "</div>"
      ],
      "text/plain": [
       "   decile1b  decile3  lsat  ugpa  zfygpa  zgpa fulltime fam_inc male tier  \\\n",
       "0      10.0     10.0  44.0   3.5    1.33  1.88      1.0     5.0  0.0  4.0   \n",
       "1       5.0      4.0  29.0   3.5   -0.11 -0.57      1.0     4.0  0.0  2.0   \n",
       "2       8.0      7.0  37.0   3.4    0.63  0.37      1.0     3.0  1.0  4.0   \n",
       "3       8.0      7.0  43.0   3.3    0.67  0.34      1.0     4.0  0.0  4.0   \n",
       "4       3.0      2.0  41.0   3.3   -0.67 -1.30      1.0     4.0  0.0  5.0   \n",
       "\n",
       "    race  \n",
       "0  White  \n",
       "1  White  \n",
       "2  White  \n",
       "3  White  \n",
       "4  White  "
      ]
     },
     "execution_count": 9,
     "metadata": {},
     "output_type": "execute_result"
    }
   ],
   "source": [
    "data_loader = LawSchoolDataset()\n",
    "data_loader.X_data.head()"
   ]
  },
  {
   "cell_type": "code",
   "execution_count": 10,
   "id": "8fa51d46",
   "metadata": {},
   "outputs": [
    {
     "data": {
      "text/plain": [
       "(20798, 11)"
      ]
     },
     "execution_count": 10,
     "metadata": {},
     "output_type": "execute_result"
    }
   ],
   "source": [
    "data_loader.X_data.shape"
   ]
  },
  {
   "cell_type": "code",
   "execution_count": 11,
   "id": "d47149b6",
   "metadata": {},
   "outputs": [
    {
     "data": {
      "text/plain": [
       "decile1b    float64\n",
       "decile3     float64\n",
       "lsat        float64\n",
       "ugpa        float64\n",
       "zfygpa      float64\n",
       "zgpa        float64\n",
       "fulltime     object\n",
       "fam_inc      object\n",
       "male         object\n",
       "tier         object\n",
       "race         object\n",
       "dtype: object"
      ]
     },
     "execution_count": 11,
     "metadata": {},
     "output_type": "execute_result"
    }
   ],
   "source": [
    "data_loader.X_data.dtypes"
   ]
  },
  {
   "cell_type": "code",
   "execution_count": 12,
   "id": "1d38dac9",
   "metadata": {},
   "outputs": [
    {
     "data": {
      "text/plain": [
       "1.0    18505\n",
       "0.0     2293\n",
       "Name: pass_bar, dtype: int64"
      ]
     },
     "execution_count": 12,
     "metadata": {},
     "output_type": "execute_result"
    }
   ],
   "source": [
    "data_loader.y_data.value_counts()"
   ]
  },
  {
   "cell_type": "code",
   "execution_count": 13,
   "id": "816a3eb6",
   "metadata": {},
   "outputs": [
    {
     "data": {
      "text/plain": [
       "White        17491\n",
       "Non-White     3307\n",
       "Name: race, dtype: int64"
      ]
     },
     "execution_count": 13,
     "metadata": {},
     "output_type": "execute_result"
    }
   ],
   "source": [
    "data_loader.X_data['race'].value_counts()"
   ]
  },
  {
   "cell_type": "code",
   "execution_count": 14,
   "id": "c7070909",
   "metadata": {},
   "outputs": [
    {
     "data": {
      "text/plain": [
       "1.0    11675\n",
       "0.0     9123\n",
       "Name: male, dtype: int64"
      ]
     },
     "execution_count": 14,
     "metadata": {},
     "output_type": "execute_result"
    }
   ],
   "source": [
    "data_loader.X_data['male'].value_counts()"
   ]
  },
  {
   "cell_type": "markdown",
   "id": "9aa1d42b",
   "metadata": {},
   "source": [
    "## Run experiment iterations"
   ]
  },
  {
   "cell_type": "markdown",
   "id": "a94c9ae0",
   "metadata": {},
   "source": [
    "### Experiment iteration 1"
   ]
  },
  {
   "cell_type": "code",
   "execution_count": 79,
   "id": "7206fe4e",
   "metadata": {},
   "outputs": [],
   "source": [
    "# tuned_params_filenames = ['tuning_results_Folktables_NY_2018_Employment_alpha_0.8_20230706__115508.csv']\n",
    "# tuned_params_df_paths = [os.path.join(ROOT_DIR, 'results', EXPERIMENT_NAME, tuned_params_filename)\n",
    "#                          for tuned_params_filename in tuned_params_filenames]"
   ]
  },
  {
   "cell_type": "code",
   "execution_count": 80,
   "id": "560937a1",
   "metadata": {},
   "outputs": [],
   "source": [
    "# Configs for an experiment iteration\n",
    "exp_iter_num = 1\n",
    "experiment_seed = EXPERIMENT_SEEDS[exp_iter_num - 1]\n",
    "custom_table_fields_dct['experiment_iteration'] = f'Exp_iter_{exp_iter_num}'\n",
    "\n",
    "exp_iter_data_loader = copy.deepcopy(data_loader)  # Add deepcopy to avoid data leakage\n",
    "models_params_for_tuning = get_model_params_for_mult_repair_levels(experiment_seed)"
   ]
  },
  {
   "cell_type": "code",
   "execution_count": 81,
   "id": "d0e9b531",
   "metadata": {},
   "outputs": [
    {
     "name": "stderr",
     "output_type": "stream",
     "text": [
      "2023-08-06 15:52:20 experiment_interface.py INFO    : Start an experiment iteration for the following custom params:\n",
      "INFO:root:Start an experiment iteration for the following custom params:\n"
     ]
    },
    {
     "name": "stdout",
     "output_type": "stream",
     "text": [
      "{'dataset_split_seed': 100,\n",
      " 'experiment_iteration': 'Exp_iter_1',\n",
      " 'fair_intervention_params_lst': '[0.1, 0.3]',\n",
      " 'model_init_seed': 100,\n",
      " 'session_uuid': '9430484b-bec6-42a0-ac65-11c53446a61f'}\n",
      "\n",
      "\n"
     ]
    },
    {
     "name": "stderr",
     "output_type": "stream",
     "text": [
      "2023-08-06 15:52:20 experiment_interface.py INFO    : The dataset is preprocessed\n",
      "INFO:root:The dataset is preprocessed\n"
     ]
    },
    {
     "name": "stdout",
     "output_type": "stream",
     "text": [
      "Top indexes of an X_test in a base flow dataset:  Int64Index([ 7102,   593, 18841,  5078, 14172,  8064, 13554, 13401, 17015,\n",
      "            18446,  6938,  3450,  9375, 19994, 16100,  4401,   142, 15143,\n",
      "             2188,  4332],\n",
      "           dtype='int64')\n",
      "Top indexes of an y_test in a base flow dataset:  Int64Index([ 7102,   593, 18841,  5078, 14172,  8064, 13554, 13401, 17015,\n",
      "            18446,  6938,  3450,  9375, 19994, 16100,  4401,   142, 15143,\n",
      "             2188,  4332],\n",
      "           dtype='int64')\n"
     ]
    },
    {
     "data": {
      "application/vnd.jupyter.widget-view+json": {
       "model_id": "8ce0b7c840cf42c483246532114ab7c0",
       "version_major": 2,
       "version_minor": 0
      },
      "text/plain": [
       "Multiple alphas:   0%|          | 0/2 [00:00<?, ?it/s]"
      ]
     },
     "metadata": {},
     "output_type": "display_data"
    },
    {
     "name": "stdout",
     "output_type": "stream",
     "text": [
      "intervention_param:  0.1\n",
      "2023/08/06, 15:52:22: Tuning RandomForestClassifier...\n"
     ]
    },
    {
     "name": "stderr",
     "output_type": "stream",
     "text": [
      "2023-08-06 15:58:40 experiment_interface.py INFO    : Models are tuned and saved to a file\n",
      "INFO:root:Models are tuned and saved to a file\n"
     ]
    },
    {
     "name": "stdout",
     "output_type": "stream",
     "text": [
      "2023/08/06, 15:58:40: Tuning for RandomForestClassifier is finished [F1 score = 0.6426024902408707, Accuracy = 0.8900641025641026]\n",
      "\n"
     ]
    },
    {
     "data": {
      "application/vnd.jupyter.widget-view+json": {
       "model_id": "81b5e596be904c8e882647a123089b32",
       "version_major": 2,
       "version_minor": 0
      },
      "text/plain": [
       "Multiple runs progress:   0%|          | 0/1 [00:00<?, ?it/s]"
      ]
     },
     "metadata": {},
     "output_type": "display_data"
    },
    {
     "data": {
      "application/vnd.jupyter.widget-view+json": {
       "model_id": "35f78738004546a49ff06d5058f9c40d",
       "version_major": 2,
       "version_minor": 0
      },
      "text/plain": [
       "Analyze models in one run:   0%|          | 0/1 [00:00<?, ?it/s]"
      ]
     },
     "metadata": {},
     "output_type": "display_data"
    },
    {
     "data": {
      "application/vnd.jupyter.widget-view+json": {
       "model_id": "9a4ca16074fc46eaa6e1915f07602c6c",
       "version_major": 2,
       "version_minor": 0
      },
      "text/plain": [
       "Classifiers testing by bootstrap:   0%|          | 0/200 [00:00<?, ?it/s]"
      ]
     },
     "metadata": {},
     "output_type": "display_data"
    },
    {
     "name": "stdout",
     "output_type": "stream",
     "text": [
      "intervention_param:  0.3\n",
      "2023/08/06, 16:24:58: Tuning RandomForestClassifier...\n",
      "2023/08/06, 16:31:10: Tuning for RandomForestClassifier is finished [F1 score = 0.6450669297827822, Accuracy = 0.8963141025641025]\n",
      "\n"
     ]
    },
    {
     "data": {
      "application/vnd.jupyter.widget-view+json": {
       "model_id": "0d22e4b6678c4331b4bbc2fd0a29a710",
       "version_major": 2,
       "version_minor": 0
      },
      "text/plain": [
       "Multiple runs progress:   0%|          | 0/1 [00:00<?, ?it/s]"
      ]
     },
     "metadata": {},
     "output_type": "display_data"
    },
    {
     "data": {
      "application/vnd.jupyter.widget-view+json": {
       "model_id": "067553a5a63e40aca909e9f09c5b2e48",
       "version_major": 2,
       "version_minor": 0
      },
      "text/plain": [
       "Analyze models in one run:   0%|          | 0/1 [00:00<?, ?it/s]"
      ]
     },
     "metadata": {},
     "output_type": "display_data"
    },
    {
     "data": {
      "application/vnd.jupyter.widget-view+json": {
       "model_id": "1325afbfad9e4072aac2a78e178ccc67",
       "version_major": 2,
       "version_minor": 0
      },
      "text/plain": [
       "Classifiers testing by bootstrap:   0%|          | 0/200 [00:00<?, ?it/s]"
      ]
     },
     "metadata": {},
     "output_type": "display_data"
    }
   ],
   "source": [
    "run_exp_iter_with_disparate_impact(data_loader=exp_iter_data_loader,\n",
    "                                   experiment_seed=experiment_seed,\n",
    "                                   test_set_fraction=TEST_SET_FRACTION,\n",
    "                                   db_writer_func=db_writer_func,\n",
    "                                   fair_intervention_params_lst=FAIR_INTERVENTION_PARAMS_LST,\n",
    "                                   models_params_for_tuning=models_params_for_tuning,\n",
    "                                   metrics_computation_config=metrics_computation_config,\n",
    "                                   custom_table_fields_dct=custom_table_fields_dct,\n",
    "                                   with_tuning=True,\n",
    "                                   # with_tuning=False,\n",
    "                                   # tuned_params_df_paths=tuned_params_df_paths,\n",
    "                                   save_results_dir_path=SAVE_RESULTS_DIR_PATH,\n",
    "                                   verbose=True, \n",
    "                                   dataset_name=DATASET_NAME)"
   ]
  },
  {
   "cell_type": "markdown",
   "id": "b7050590",
   "metadata": {},
   "source": [
    "### Experiment iteration 2"
   ]
  },
  {
   "cell_type": "code",
   "execution_count": 15,
   "id": "25ac7b90",
   "metadata": {},
   "outputs": [],
   "source": [
    "# Configs for an experiment iteration\n",
    "exp_iter_num = 2\n",
    "experiment_seed = EXPERIMENT_SEEDS[exp_iter_num - 1]\n",
    "tuned_params_filenames = [\n",
    "    'tuning_results_Law_School_alpha_0.4_20230806__163550.csv',\n",
    "    'tuning_results_Law_School_alpha_0.6_20230806__201207.csv',\n",
    "    'tuning_results_Law_School_alpha_0.7_20230806__195944.csv',\n",
    "    'tuning_results_Law_School_alpha_0.8_20230806__201750.csv',\n",
    "    'tuning_results_Law_School_alpha_1.0_20230806__195926.csv',\n",
    "]\n",
    "tuned_params_df_paths = [os.path.join(ROOT_DIR, 'results', EXPERIMENT_NAME, tuned_params_filename)\n",
    "                         for tuned_params_filename in tuned_params_filenames]\n",
    "custom_table_fields_dct['experiment_iteration'] = f'Exp_iter_{exp_iter_num}'\n",
    "\n",
    "exp_iter_data_loader = copy.deepcopy(data_loader)  # Add deepcopy to avoid data leakage\n",
    "models_params_for_tuning = get_model_params_for_mult_repair_levels(experiment_seed)"
   ]
  },
  {
   "cell_type": "code",
   "execution_count": null,
   "id": "86a151c4",
   "metadata": {
    "pycharm": {
     "is_executing": true
    }
   },
   "outputs": [],
   "source": [
    "run_exp_iter_with_disparate_impact(data_loader=exp_iter_data_loader,\n",
    "                                   experiment_seed=experiment_seed,\n",
    "                                   test_set_fraction=TEST_SET_FRACTION,\n",
    "                                   db_writer_func=db_writer_func,\n",
    "                                   fair_intervention_params_lst=FAIR_INTERVENTION_PARAMS_LST,\n",
    "                                   models_params_for_tuning=models_params_for_tuning,\n",
    "                                   metrics_computation_config=metrics_computation_config,\n",
    "                                   custom_table_fields_dct=custom_table_fields_dct,\n",
    "#                                    with_tuning=True,\n",
    "                                   with_tuning=False,\n",
    "                                   tuned_params_df_paths=tuned_params_df_paths,\n",
    "                                   save_results_dir_path=SAVE_RESULTS_DIR_PATH,\n",
    "                                   verbose=True,\n",
    "                                   dataset_name=DATASET_NAME)"
   ]
  },
  {
   "cell_type": "markdown",
   "id": "56387351",
   "metadata": {},
   "source": [
    "### Experiment iteration 3"
   ]
  },
  {
   "cell_type": "code",
   "execution_count": 15,
   "id": "89165c10",
   "metadata": {},
   "outputs": [],
   "source": [
    "# Configs for an experiment iteration\n",
    "exp_iter_num = 3\n",
    "experiment_seed = EXPERIMENT_SEEDS[exp_iter_num - 1]\n",
    "tuned_params_filenames = [\n",
    "    'tuning_results_Law_School_alpha_0.4_20230806__163550.csv',\n",
    "    'tuning_results_Law_School_alpha_0.6_20230806__201207.csv',\n",
    "    'tuning_results_Law_School_alpha_0.7_20230806__195944.csv',\n",
    "    'tuning_results_Law_School_alpha_0.8_20230806__201750.csv',\n",
    "    'tuning_results_Law_School_alpha_1.0_20230806__195926.csv',\n",
    "]\n",
    "tuned_params_df_paths = [os.path.join(ROOT_DIR, 'results', EXPERIMENT_NAME, tuned_params_filename)\n",
    "                         for tuned_params_filename in tuned_params_filenames]\n",
    "custom_table_fields_dct['experiment_iteration'] = f'Exp_iter_{exp_iter_num}'\n",
    "\n",
    "exp_iter_data_loader = copy.deepcopy(data_loader)  # Add deepcopy to avoid data leakage\n",
    "models_params_for_tuning = get_model_params_for_mult_repair_levels(experiment_seed)"
   ]
  },
  {
   "cell_type": "code",
   "execution_count": null,
   "id": "39e2bcaf",
   "metadata": {
    "pycharm": {
     "is_executing": true
    }
   },
   "outputs": [],
   "source": [
    "run_exp_iter_with_disparate_impact(data_loader=exp_iter_data_loader,\n",
    "                                   experiment_seed=experiment_seed,\n",
    "                                   test_set_fraction=TEST_SET_FRACTION,\n",
    "                                   db_writer_func=db_writer_func,\n",
    "                                   fair_intervention_params_lst=FAIR_INTERVENTION_PARAMS_LST,\n",
    "                                   models_params_for_tuning=models_params_for_tuning,\n",
    "                                   metrics_computation_config=metrics_computation_config,\n",
    "                                   custom_table_fields_dct=custom_table_fields_dct,\n",
    "#                                    with_tuning=True,\n",
    "                                   with_tuning=False,\n",
    "                                   tuned_params_df_paths=tuned_params_df_paths,\n",
    "                                   save_results_dir_path=SAVE_RESULTS_DIR_PATH,\n",
    "                                   verbose=True,\n",
    "                                   dataset_name=DATASET_NAME)"
   ]
  },
  {
   "cell_type": "markdown",
   "id": "6e1249eb",
   "metadata": {},
   "source": [
    "### Experiment iteration 4"
   ]
  },
  {
   "cell_type": "code",
   "execution_count": null,
   "id": "6a6a538a",
   "metadata": {},
   "outputs": [],
   "source": [
    "# Configs for an experiment iteration\n",
    "exp_iter_num = 4\n",
    "experiment_seed = EXPERIMENT_SEEDS[exp_iter_num - 1]\n",
    "tuned_params_filenames = [\n",
    "    'tuning_results_Law_School_alpha_0.4_20230806__163550.csv',\n",
    "    'tuning_results_Law_School_alpha_0.6_20230806__201207.csv',\n",
    "    'tuning_results_Law_School_alpha_0.7_20230806__195944.csv',\n",
    "    'tuning_results_Law_School_alpha_0.8_20230806__201750.csv',\n",
    "    'tuning_results_Law_School_alpha_1.0_20230806__195926.csv',\n",
    "]\n",
    "tuned_params_df_paths = [os.path.join(ROOT_DIR, 'results', EXPERIMENT_NAME, tuned_params_filename)\n",
    "                         for tuned_params_filename in tuned_params_filenames]\n",
    "custom_table_fields_dct['experiment_iteration'] = f'Exp_iter_{exp_iter_num}'\n",
    "\n",
    "exp_iter_data_loader = copy.deepcopy(data_loader)  # Add deepcopy to avoid data leakage\n",
    "models_params_for_tuning = get_model_params_for_mult_repair_levels(experiment_seed)"
   ]
  },
  {
   "cell_type": "code",
   "execution_count": 46,
   "id": "3428e15d",
   "metadata": {},
   "outputs": [],
   "source": [
    "run_exp_iter_with_disparate_impact(data_loader=exp_iter_data_loader,\n",
    "                                   experiment_seed=experiment_seed,\n",
    "                                   test_set_fraction=TEST_SET_FRACTION,\n",
    "                                   db_writer_func=db_writer_func,\n",
    "                                   fair_intervention_params_lst=FAIR_INTERVENTION_PARAMS_LST,\n",
    "                                   models_params_for_tuning=models_params_for_tuning,\n",
    "                                   metrics_computation_config=metrics_computation_config,\n",
    "                                   custom_table_fields_dct=custom_table_fields_dct,\n",
    "#                                    with_tuning=True,\n",
    "                                   with_tuning=False,\n",
    "                                   tuned_params_df_paths=tuned_params_df_paths,\n",
    "                                   save_results_dir_path=SAVE_RESULTS_DIR_PATH,\n",
    "                                   verbose=True, \n",
    "                                   dataset_name=DATASET_NAME)"
   ]
  },
  {
   "cell_type": "markdown",
   "id": "479cd619",
   "metadata": {},
   "source": [
    "### Experiment iteration 5"
   ]
  },
  {
   "cell_type": "code",
   "execution_count": null,
   "id": "24992772",
   "metadata": {},
   "outputs": [],
   "source": [
    "# Configs for an experiment iteration\n",
    "exp_iter_num = 5\n",
    "experiment_seed = EXPERIMENT_SEEDS[exp_iter_num - 1]\n",
    "tuned_params_filenames = [\n",
    "    'tuning_results_Law_School_alpha_0.4_20230806__163550.csv',\n",
    "    'tuning_results_Law_School_alpha_0.6_20230806__201207.csv',\n",
    "    'tuning_results_Law_School_alpha_0.7_20230806__195944.csv',\n",
    "    'tuning_results_Law_School_alpha_0.8_20230806__201750.csv',\n",
    "    'tuning_results_Law_School_alpha_1.0_20230806__195926.csv',\n",
    "]\n",
    "tuned_params_df_paths = [os.path.join(ROOT_DIR, 'results', EXPERIMENT_NAME, tuned_params_filename)\n",
    "                         for tuned_params_filename in tuned_params_filenames]\n",
    "custom_table_fields_dct['experiment_iteration'] = f'Exp_iter_{exp_iter_num}'\n",
    "\n",
    "exp_iter_data_loader = copy.deepcopy(data_loader)  # Add deepcopy to avoid data leakage\n",
    "models_params_for_tuning = get_model_params_for_mult_repair_levels(experiment_seed)"
   ]
  },
  {
   "cell_type": "code",
   "execution_count": null,
   "id": "3a5597b0",
   "metadata": {},
   "outputs": [],
   "source": [
    "run_exp_iter_with_disparate_impact(data_loader=exp_iter_data_loader,\n",
    "                                   experiment_seed=experiment_seed,\n",
    "                                   test_set_fraction=TEST_SET_FRACTION,\n",
    "                                   db_writer_func=db_writer_func,\n",
    "                                   fair_intervention_params_lst=FAIR_INTERVENTION_PARAMS_LST,\n",
    "                                   models_params_for_tuning=models_params_for_tuning,\n",
    "                                   metrics_computation_config=metrics_computation_config,\n",
    "                                   custom_table_fields_dct=custom_table_fields_dct,\n",
    "#                                    with_tuning=True,\n",
    "                                   with_tuning=False,\n",
    "                                   tuned_params_df_paths=tuned_params_df_paths,\n",
    "                                   save_results_dir_path=SAVE_RESULTS_DIR_PATH,\n",
    "                                   verbose=True, \n",
    "                                   dataset_name=DATASET_NAME)"
   ]
  },
  {
   "cell_type": "markdown",
   "id": "67b05c59",
   "metadata": {},
   "source": [
    "### Experiment iteration 6"
   ]
  },
  {
   "cell_type": "code",
   "execution_count": null,
   "id": "cb16482d",
   "metadata": {},
   "outputs": [],
   "source": [
    "# Configs for an experiment iteration\n",
    "exp_iter_num = 6\n",
    "experiment_seed = EXPERIMENT_SEEDS[exp_iter_num - 1]\n",
    "tuned_params_filenames = [\n",
    "    'tuning_results_Law_School_alpha_0.4_20230806__163550.csv',\n",
    "    'tuning_results_Law_School_alpha_0.6_20230806__201207.csv',\n",
    "    'tuning_results_Law_School_alpha_0.7_20230806__195944.csv',\n",
    "    'tuning_results_Law_School_alpha_0.8_20230806__201750.csv',\n",
    "    'tuning_results_Law_School_alpha_1.0_20230806__195926.csv',\n",
    "]\n",
    "tuned_params_df_paths = [os.path.join(ROOT_DIR, 'results', EXPERIMENT_NAME, tuned_params_filename)\n",
    "                         for tuned_params_filename in tuned_params_filenames]\n",
    "custom_table_fields_dct['experiment_iteration'] = f'Exp_iter_{exp_iter_num}'\n",
    "\n",
    "exp_iter_data_loader = copy.deepcopy(data_loader)  # Add deepcopy to avoid data leakage\n",
    "models_params_for_tuning = get_model_params_for_mult_repair_levels(experiment_seed)"
   ]
  },
  {
   "cell_type": "code",
   "execution_count": null,
   "id": "f738b887",
   "metadata": {},
   "outputs": [],
   "source": [
    "run_exp_iter_with_disparate_impact(data_loader=exp_iter_data_loader,\n",
    "                                   experiment_seed=experiment_seed,\n",
    "                                   test_set_fraction=TEST_SET_FRACTION,\n",
    "                                   db_writer_func=db_writer_func,\n",
    "                                   fair_intervention_params_lst=FAIR_INTERVENTION_PARAMS_LST,\n",
    "                                   models_params_for_tuning=models_params_for_tuning,\n",
    "                                   metrics_computation_config=metrics_computation_config,\n",
    "                                   custom_table_fields_dct=custom_table_fields_dct,\n",
    "#                                    with_tuning=True,\n",
    "                                   with_tuning=False,\n",
    "                                   tuned_params_df_paths=tuned_params_df_paths,\n",
    "                                   save_results_dir_path=SAVE_RESULTS_DIR_PATH,\n",
    "                                   verbose=True, \n",
    "                                   dataset_name=DATASET_NAME)"
   ]
  },
  {
   "cell_type": "code",
   "execution_count": null,
   "id": "5b670f53",
   "metadata": {},
   "outputs": [],
   "source": []
  }
 ],
 "metadata": {
  "kernelspec": {
   "display_name": "Python 3",
   "language": "python",
   "name": "python3"
  },
  "language_info": {
   "codemirror_mode": {
    "name": "ipython",
    "version": 3
   },
   "file_extension": ".py",
   "mimetype": "text/x-python",
   "name": "python",
   "nbconvert_exporter": "python",
   "pygments_lexer": "ipython3",
   "version": "3.8.5"
  }
 },
 "nbformat": 4,
 "nbformat_minor": 5
}
